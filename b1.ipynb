{
 "cells": [
  {
   "metadata": {
    "ExecuteTime": {
     "end_time": "2024-07-13T09:44:13.944436Z",
     "start_time": "2024-07-13T09:44:13.940074Z"
    }
   },
   "cell_type": "code",
   "source": [
    "from __future__ import absolute_import, division, print_function, unicode_literals\n",
    "\n",
    "try:\n",
    "    # %tensorflow_version only exists in Colab.\n",
    "    %tensorflow_version 2.x\n",
    "except Exception:\n",
    "    pass"
   ],
   "id": "feb77768ff836e60",
   "outputs": [],
   "execution_count": 10
  },
  {
   "cell_type": "code",
   "id": "initial_id",
   "metadata": {
    "collapsed": true,
    "ExecuteTime": {
     "end_time": "2024-07-13T09:37:50.036722Z",
     "start_time": "2024-07-13T09:37:48.365756Z"
    }
   },
   "source": [
    "import tensorflow as tf\n",
    "import numpy as np\n",
    "import pandas as pd\n",
    "\n",
    "import hazm\n",
    "\n",
    "import transformers \n",
    "from transformers import AutoTokenizer, AutoConfig\n",
    "from transformers import TFAutoModelForTokenClassification\n",
    "\n",
    "import os\n",
    "from IPython.display import display, HTML, clear_output\n",
    "from ipywidgets import widgets, Layout\n",
    "\n",
    "print()\n",
    "print('tensorflow', tf.__version__)\n",
    "print('transformers', transformers.__version__)\n",
    "print('numpy', np.__version__)\n",
    "print('pandas', pd.__version__)\n",
    "print()\n",
    "\n",
    "if tf.test.gpu_device_name() != '/device:GPU:0':\n",
    "    print()\n",
    "    print('WARNING: GPU device not found.')\n",
    "else:\n",
    "    print()\n",
    "    print('SUCCESS: Found GPU: {}'.format(tf.test.gpu_device_name()))"
   ],
   "outputs": [
    {
     "name": "stderr",
     "output_type": "stream",
     "text": [
      "2024-07-13 13:07:48.632747: E external/local_xla/xla/stream_executor/cuda/cuda_fft.cc:485] Unable to register cuFFT factory: Attempting to register factory for plugin cuFFT when one has already been registered\n",
      "2024-07-13 13:07:48.648412: E external/local_xla/xla/stream_executor/cuda/cuda_dnn.cc:8454] Unable to register cuDNN factory: Attempting to register factory for plugin cuDNN when one has already been registered\n",
      "2024-07-13 13:07:48.653185: E external/local_xla/xla/stream_executor/cuda/cuda_blas.cc:1452] Unable to register cuBLAS factory: Attempting to register factory for plugin cuBLAS when one has already been registered\n",
      "2024-07-13 13:07:48.665406: I tensorflow/core/platform/cpu_feature_guard.cc:210] This TensorFlow binary is optimized to use available CPU instructions in performance-critical operations.\n",
      "To enable the following instructions: AVX2 FMA, in other operations, rebuild TensorFlow with the appropriate compiler flags.\n",
      "2024-07-13 13:07:49.600545: W tensorflow/compiler/tf2tensorrt/utils/py_utils.cc:38] TF-TRT Warning: Could not find TensorRT\n"
     ]
    },
    {
     "name": "stdout",
     "output_type": "stream",
     "text": [
      "\n",
      "tensorflow 2.17.0\n",
      "transformers 4.42.4\n",
      "numpy 1.24.3\n",
      "pandas 2.2.2\n",
      "\n",
      "\n",
      "WARNING: GPU device not found.\n"
     ]
    }
   ],
   "execution_count": 3
  },
  {
   "metadata": {
    "ExecuteTime": {
     "end_time": "2024-07-13T09:38:29.395333Z",
     "start_time": "2024-07-13T09:38:29.390139Z"
    }
   },
   "cell_type": "code",
   "source": [
    "texts = [\n",
    "    \"مدیرکل محیط زیست استان البرز با بیان اینکه با بیان اینکه موضوع شیرابه‌های زباله‌های انتقال یافته در منطقه حلقه دره خطری برای این استان است، گفت: در این مورد گزارشاتی در ۲۵ مرداد ۱۳۹۷ تقدیم مدیران استان شده است.\",\n",
    "    \"به گزارش خبرگزاری تسنیم از کرج، حسین محمدی در نشست خبری مشترک با معاون خدمات شهری شهرداری کرج که با حضور مدیرعامل سازمان‌های پسماند، پارک‌ها و فضای سبز و نماینده منابع طبیعی در سالن کنفرانس شهرداری کرج برگزار شد، اظهار داشت: ۸۰٪  جمعیت استان البرز در کلانشهر کرج زندگی می‌کنند.\",\n",
    "    \"وی افزود: با همکاری‌های مشترک بین اداره کل محیط زیست و شهرداری کرج برنامه‌های مشترکی برای حفاظت از محیط زیست در شهر کرج در دستور کار قرار گرفته که این اقدامات آثار مثبتی داشته و تاکنون نزدیک به ۱۰۰ میلیارد هزینه جهت خریداری اکس-ریس صورت گرفته است.\",\n",
    "]\n",
    "\n",
    "peyma_translate = {\n",
    "    \"B_DAT\": \"تاریخ\",\n",
    "    \"B_LOC\": \"موقعیت\",\n",
    "    \"B_MON\": \"پول\",\n",
    "    \"B_ORG\": \"سازمنان\",\n",
    "    \"B_PCT\": \"درصد\",\n",
    "    \"B_PER\": \"شخص\",\n",
    "    \"B_TIM\": \"زمان\",\n",
    "    \"I_DAT\": \"تاریخ\",\n",
    "    \"I_LOC\": \"موقعیت\",\n",
    "    \"I_MON\": \"پول\",\n",
    "    \"I_ORG\": \"سازمان\",\n",
    "    \"I_PCT\": \"درصد\",\n",
    "    \"I_PER\": \"شخص\",\n",
    "    \"I_TIM\": \"زمان\",\n",
    "    \"O\": None,\n",
    "}\n",
    "arman_translate = {\n",
    "    \"B-event\": \"رویداد\",\n",
    "    \"B-fac\": \"امکانات\",\n",
    "    \"B-loc\": \"موقعیت\",\n",
    "    \"B-org\": \"سازمان\",\n",
    "    \"B-pers\": \"شخص\",\n",
    "    \"B-pro\": \"محصول\",\n",
    "    \"I-event\": \"رویداد\",\n",
    "    \"I-fac\": \"امکانات\",\n",
    "    \"I-loc\": \"موقعیت\",\n",
    "    \"I-org\": \"سازمان\",\n",
    "    \"I-pers\": \"شخص\",\n",
    "    \"I-pro\": \"محصول\",\n",
    "    \"O\": None\n",
    "}\n",
    "\n",
    "ner_translate = {\n",
    "    \"B-date\": \"تاریخ\",\n",
    "    \"B-event\": \"رویداد\",\n",
    "    \"B-facility\": \"امکانات\",\n",
    "    \"B-location\": \"موقعیت\",\n",
    "    \"B-money\": \"پول\",\n",
    "    \"B-organization\": \"سازمان\",\n",
    "    \"B-person\": \"شخص\",\n",
    "    \"B-product\": \"محصول\",\n",
    "    \"B-time\": \"زمان\",\n",
    "    \"B-percent\": \"درصد\",\n",
    "    \"I-date\": \"تاریخ\",\n",
    "    \"I-event\": \"رویداد\",\n",
    "    \"I-facility\": \"امکانات\",\n",
    "    \"I-location\": \"موقعیت\",\n",
    "    \"I-money\": \"پول\",\n",
    "    \"I-organization\": \"سازمان\",\n",
    "    \"I-person\": \"شخص\",\n",
    "    \"I-product\": \"محصول\",\n",
    "    \"I-time\": \"زمان\",\n",
    "    \"I-percent\": \"درصد\",\n",
    "    \"O\": None\n",
    "}"
   ],
   "id": "cfb2ad9a554443a6",
   "outputs": [],
   "execution_count": 4
  },
  {
   "metadata": {
    "ExecuteTime": {
     "end_time": "2024-07-13T09:38:47.612713Z",
     "start_time": "2024-07-13T09:38:46.218602Z"
    }
   },
   "cell_type": "code",
   "source": [
    "normalizer = hazm.Normalizer()\n",
    "\n",
    "\n",
    "def cleanize(text):\n",
    "    \"\"\"A way to normalize and even clean the text\"\"\"\n",
    "    # clean text\n",
    "    # do some fns\n",
    "    return normalizer.normalize(text)\n",
    "\n",
    "\n",
    "def parsbert_ner_load_model(model_name):\n",
    "    \"\"\"Load the model\"\"\"\n",
    "    try:\n",
    "        config = AutoConfig.from_pretrained(model_name)\n",
    "        tokenizer = AutoTokenizer.from_pretrained(model_name)\n",
    "        model = TFAutoModelForTokenClassification.from_pretrained(model_name)\n",
    "        labels = list(config.label2id.keys())\n",
    "\n",
    "        return model, tokenizer, labels\n",
    "    except:\n",
    "        return [None] * 3\n",
    "\n",
    "def parsbert_ner(texts, model_name, label_translate, visualize=True):\n",
    "    \"\"\"Predict and visualize the NER!\"\"\"\n",
    "    global css_is_load\n",
    "    \n",
    "    css_is_load = False\n",
    "    css = \"\"\"<style>\n",
    "    .ner-box {\n",
    "        direction: rtl;\n",
    "        font-size: 18px !important;\n",
    "        line-height: 20px !important;\n",
    "        margin: 0 0 15px;\n",
    "        padding: 10px;\n",
    "        text-align: justify;\n",
    "        color: #343434 !important;\n",
    "    }\n",
    "    .token, .token span {\n",
    "        display: inline-block !important;\n",
    "        padding: 2px;\n",
    "        margin: 2px 0;\n",
    "    }\n",
    "    .token.token-ner {\n",
    "        background-color: #f6cd61;\n",
    "        font-weight: bold;\n",
    "        color: #000;\n",
    "    }\n",
    "    .token.token-ner .ner-label {\n",
    "        color: #9a1f40;\n",
    "        margin: 0px 2px;\n",
    "    }\n",
    "    </style>\"\"\"\n",
    "\n",
    "    if not css_is_load:\n",
    "        display(HTML(css))\n",
    "        css_is_load = True\n",
    "\n",
    "    model, tokenizer, labels = parsbert_ner_load_model(model_name)\n",
    "\n",
    "    if not model or not tokenizer or not labels:\n",
    "        return 'Something wrong has been happened!'\n",
    "    \n",
    "    output_predictions = []\n",
    "    for sequence in texts:\n",
    "        sequence = cleanize(sequence)\n",
    "        tokens = tokenizer.tokenize(tokenizer.decode(tokenizer.encode(sequence)))\n",
    "        inputs = tokenizer.encode(sequence, return_tensors=\"tf\")\n",
    "        outputs = model(inputs)[0]\n",
    "        predictions = tf.argmax(outputs, axis=2)\n",
    "        predictions = [(token, label_translate[labels[prediction]]) for token, prediction in zip(tokens, predictions[0].numpy())]\n",
    "        \n",
    "        if not visualize:\n",
    "            output_predictions.append(predictions)\n",
    "        else:\n",
    "            pred_sequence = []\n",
    "            for token, label in predictions:\n",
    "                if token not in ['[CLS]', '[SEP]']:\n",
    "                    if label:\n",
    "                        pred_sequence.append(\n",
    "                            '<span class=\"token token-ner\">%s<span class=\"ner-label\">%s</span></span>' \n",
    "                            % (token, label))\n",
    "                    else:\n",
    "                        pred_sequence.append(\n",
    "                            '<span class=\"token\">%s</span>' \n",
    "                            % token)\n",
    "                \n",
    "            html = '<p class=\"ner-box\">%s</p>' % ' '.join(pred_sequence) \n",
    "            display(HTML(html))\n",
    "\n",
    "    return output_predictions"
   ],
   "id": "96976abe958ff8ed",
   "outputs": [],
   "execution_count": 5
  },
  {
   "metadata": {
    "ExecuteTime": {
     "end_time": "2024-07-13T09:39:29.034872Z",
     "start_time": "2024-07-13T09:39:18.774854Z"
    }
   },
   "cell_type": "code",
   "source": [
    "model_name = 'HooshvareLab/bert-base-parsbert-armanner-uncased'\n",
    "_ = parsbert_ner(texts, model_name, arman_translate, visualize=True)"
   ],
   "id": "8aeee3e9382b1948",
   "outputs": [
    {
     "data": {
      "text/plain": [
       "<IPython.core.display.HTML object>"
      ],
      "text/html": [
       "<style>\n",
       "    .ner-box {\n",
       "        direction: rtl;\n",
       "        font-size: 18px !important;\n",
       "        line-height: 20px !important;\n",
       "        margin: 0 0 15px;\n",
       "        padding: 10px;\n",
       "        text-align: justify;\n",
       "        color: #343434 !important;\n",
       "    }\n",
       "    .token, .token span {\n",
       "        display: inline-block !important;\n",
       "        padding: 2px;\n",
       "        margin: 2px 0;\n",
       "    }\n",
       "    .token.token-ner {\n",
       "        background-color: #f6cd61;\n",
       "        font-weight: bold;\n",
       "        color: #000;\n",
       "    }\n",
       "    .token.token-ner .ner-label {\n",
       "        color: #9a1f40;\n",
       "        margin: 0px 2px;\n",
       "    }\n",
       "    </style>"
      ]
     },
     "metadata": {},
     "output_type": "display_data"
    },
    {
     "data": {
      "text/plain": [
       "config.json:   0%|          | 0.00/937 [00:00<?, ?B/s]"
      ],
      "application/vnd.jupyter.widget-view+json": {
       "version_major": 2,
       "version_minor": 0,
       "model_id": "be94620ea34042639f4c736279ca026c"
      }
     },
     "metadata": {},
     "output_type": "display_data"
    },
    {
     "data": {
      "text/plain": [
       "tokenizer_config.json:   0%|          | 0.00/2.00 [00:00<?, ?B/s]"
      ],
      "application/vnd.jupyter.widget-view+json": {
       "version_major": 2,
       "version_minor": 0,
       "model_id": "314156e3140747d89dd5ca726f14b0b6"
      }
     },
     "metadata": {},
     "output_type": "display_data"
    },
    {
     "data": {
      "text/plain": [
       "vocab.txt:   0%|          | 0.00/1.22M [00:00<?, ?B/s]"
      ],
      "application/vnd.jupyter.widget-view+json": {
       "version_major": 2,
       "version_minor": 0,
       "model_id": "fe5588434bd34451a77efe4eb769d362"
      }
     },
     "metadata": {},
     "output_type": "display_data"
    },
    {
     "data": {
      "text/plain": [
       "special_tokens_map.json:   0%|          | 0.00/112 [00:00<?, ?B/s]"
      ],
      "application/vnd.jupyter.widget-view+json": {
       "version_major": 2,
       "version_minor": 0,
       "model_id": "2d90512ca4904f3cb85785defb4ceb0a"
      }
     },
     "metadata": {},
     "output_type": "display_data"
    }
   ],
   "execution_count": 6
  },
  {
   "metadata": {
    "ExecuteTime": {
     "end_time": "2024-07-13T09:40:26.040550Z",
     "start_time": "2024-07-13T09:40:22.956779Z"
    }
   },
   "cell_type": "code",
   "source": [
    "model_name = 'HooshvareLab/bert-base-parsbert-peymaner-uncased'\n",
    "_ = parsbert_ner(texts, model_name, peyma_translate, visualize=True)"
   ],
   "id": "9532476e44856639",
   "outputs": [
    {
     "data": {
      "text/plain": [
       "<IPython.core.display.HTML object>"
      ],
      "text/html": [
       "<style>\n",
       "    .ner-box {\n",
       "        direction: rtl;\n",
       "        font-size: 18px !important;\n",
       "        line-height: 20px !important;\n",
       "        margin: 0 0 15px;\n",
       "        padding: 10px;\n",
       "        text-align: justify;\n",
       "        color: #343434 !important;\n",
       "    }\n",
       "    .token, .token span {\n",
       "        display: inline-block !important;\n",
       "        padding: 2px;\n",
       "        margin: 2px 0;\n",
       "    }\n",
       "    .token.token-ner {\n",
       "        background-color: #f6cd61;\n",
       "        font-weight: bold;\n",
       "        color: #000;\n",
       "    }\n",
       "    .token.token-ner .ner-label {\n",
       "        color: #9a1f40;\n",
       "        margin: 0px 2px;\n",
       "    }\n",
       "    </style>"
      ]
     },
     "metadata": {},
     "output_type": "display_data"
    },
    {
     "data": {
      "text/plain": [
       "config.json:   0%|          | 0.00/997 [00:00<?, ?B/s]"
      ],
      "application/vnd.jupyter.widget-view+json": {
       "version_major": 2,
       "version_minor": 0,
       "model_id": "fb224d23728d4de1b3441b22347f4ebc"
      }
     },
     "metadata": {},
     "output_type": "display_data"
    },
    {
     "data": {
      "text/plain": [
       "tokenizer_config.json:   0%|          | 0.00/2.00 [00:00<?, ?B/s]"
      ],
      "application/vnd.jupyter.widget-view+json": {
       "version_major": 2,
       "version_minor": 0,
       "model_id": "af9d9ad89dbb48e396bcac95e090c735"
      }
     },
     "metadata": {},
     "output_type": "display_data"
    },
    {
     "data": {
      "text/plain": [
       "vocab.txt:   0%|          | 0.00/1.22M [00:00<?, ?B/s]"
      ],
      "application/vnd.jupyter.widget-view+json": {
       "version_major": 2,
       "version_minor": 0,
       "model_id": "39fcbc7b244d4a20827e1fea968dd1cc"
      }
     },
     "metadata": {},
     "output_type": "display_data"
    },
    {
     "data": {
      "text/plain": [
       "special_tokens_map.json:   0%|          | 0.00/112 [00:00<?, ?B/s]"
      ],
      "application/vnd.jupyter.widget-view+json": {
       "version_major": 2,
       "version_minor": 0,
       "model_id": "b5145cf961b043b0b8c2396821ef8789"
      }
     },
     "metadata": {},
     "output_type": "display_data"
    }
   ],
   "execution_count": 7
  },
  {
   "metadata": {
    "ExecuteTime": {
     "end_time": "2024-07-13T09:59:26.306762Z",
     "start_time": "2024-07-13T09:59:25.593583Z"
    }
   },
   "cell_type": "code",
   "source": [
    "model_name = 'HooshvareLab/bert-base-parsbert-ner-uncased'\n",
    "_ = parsbert_ner(texts, model_name, ner_translate, visualize=True)"
   ],
   "id": "7a5171f3c0f66ac4",
   "outputs": [
    {
     "data": {
      "text/plain": [
       "<IPython.core.display.HTML object>"
      ],
      "text/html": [
       "<style>\n",
       "    .ner-box {\n",
       "        direction: rtl;\n",
       "        font-size: 18px !important;\n",
       "        line-height: 20px !important;\n",
       "        margin: 0 0 15px;\n",
       "        padding: 10px;\n",
       "        text-align: justify;\n",
       "        color: #343434 !important;\n",
       "    }\n",
       "    .token, .token span {\n",
       "        display: inline-block !important;\n",
       "        padding: 2px;\n",
       "        margin: 2px 0;\n",
       "    }\n",
       "    .token.token-ner {\n",
       "        background-color: #f6cd61;\n",
       "        font-weight: bold;\n",
       "        color: #000;\n",
       "    }\n",
       "    .token.token-ner .ner-label {\n",
       "        color: #9a1f40;\n",
       "        margin: 0px 2px;\n",
       "    }\n",
       "    </style>"
      ]
     },
     "metadata": {},
     "output_type": "display_data"
    }
   ],
   "execution_count": 13
  },
  {
   "metadata": {
    "ExecuteTime": {
     "end_time": "2024-07-13T09:44:21.198848Z",
     "start_time": "2024-07-13T09:44:21.174358Z"
    }
   },
   "cell_type": "code",
   "source": [
    "#@title Live Playground { display-mode: \"form\" }\n",
    "\n",
    "submit_wd = widgets.Button(description='Send', disabled=False, button_style='success', tooltip='Submit')\n",
    "text_wd = widgets.Textarea(placeholder='Please enter you text ...', rows=5, layout=Layout(width='90%'))\n",
    "\n",
    "config_wd = widgets.RadioButtons(options=['ARMAN', 'PEYMA', 'ARMAN+PEYMA'], description='Select your model', disabled=False)\n",
    "\n",
    "output_wd = widgets.Output()\n",
    "\n",
    "display(HTML(\"\"\"\n",
    "<h2>Persian NER <small>[ARMAN, PEYMA, ARMAN+PEYMA]</small></h2>\n",
    "<p style=\"padding: 2px 20px; margin: 0 0 20px;\">\n",
    "</p>\n",
    "<br /><br />\n",
    "\"\"\"))\n",
    "\n",
    "display(config_wd)\n",
    "display(text_wd)\n",
    "display(submit_wd)\n",
    "display(oNamed Entity Recognitionutput_wd)\n",
    "\n",
    "configs = {\n",
    "    'ARMAN': [\n",
    "        'HooshvareLab/bert-base-parsbert-armanner-uncased',\n",
    "        arman_translate\n",
    "    ], \n",
    "    'PEYMA': [\n",
    "        'HooshvareLab/bert-base-parsbert-peymaner-uncased',\n",
    "        peyma_translate\n",
    "    ],\n",
    "    'ARMAN+PEYMA': [\n",
    "        'HooshvareLab/bert-base-parsbert-ner-uncased',\n",
    "        ner_translate\n",
    "    ]\n",
    "}\n",
    "\n",
    "def submit_text(sender):\n",
    "    with output_wd:\n",
    "        clear_output(wait=True)\n",
    "        text = text_wd.value\n",
    "        config = configs[config_wd.value]\n",
    "        print('Predicting .... [please wait!]')\n",
    "        _ = parsbert_ner([text], config[0], config[1], visualize=True)\n",
    "\n",
    "\n",
    "submit_wd.on_click(submit_text)"
   ],
   "id": "e72f6493b3e191eb",
   "outputs": [
    {
     "data": {
      "text/plain": [
       "<IPython.core.display.HTML object>"
      ],
      "text/html": [
       "\n",
       "<h2>Persian NER <small>[ARMAN, PEYMA, ARMAN+PEYMA]</small></h2>\n",
       "<p style=\"padding: 2px 20px; margin: 0 0 20px;\">\n",
       "</p>\n",
       "<br /><br />\n"
      ]
     },
     "metadata": {},
     "output_type": "display_data"
    },
    {
     "data": {
      "text/plain": [
       "RadioButtons(description='Select your model', options=('ARMAN', 'PEYMA', 'ARMAN+PEYMA'), value='ARMAN')"
      ],
      "application/vnd.jupyter.widget-view+json": {
       "version_major": 2,
       "version_minor": 0,
       "model_id": "cd930b9c03824bf8b3dea015fdfdfa7f"
      }
     },
     "metadata": {},
     "output_type": "display_data"
    },
    {
     "data": {
      "text/plain": [
       "Textarea(value='', layout=Layout(width='90%'), placeholder='Please enter you text ...', rows=5)"
      ],
      "application/vnd.jupyter.widget-view+json": {
       "version_major": 2,
       "version_minor": 0,
       "model_id": "2619a52cc8304415a696f90623d2b3ee"
      }
     },
     "metadata": {},
     "output_type": "display_data"
    },
    {
     "data": {
      "text/plain": [
       "Button(button_style='success', description='Send', style=ButtonStyle(), tooltip='Submit')"
      ],
      "application/vnd.jupyter.widget-view+json": {
       "version_major": 2,
       "version_minor": 0,
       "model_id": "5e5a4a3053d740ebb3cf3ee6e4b607ce"
      }
     },
     "metadata": {},
     "output_type": "display_data"
    },
    {
     "data": {
      "text/plain": [
       "Output()"
      ],
      "application/vnd.jupyter.widget-view+json": {
       "version_major": 2,
       "version_minor": 0,
       "model_id": "c8a29d27199342e0913070b395eb8e5c"
      }
     },
     "metadata": {},
     "output_type": "display_data"
    }
   ],
   "execution_count": 11
  },
  {
   "metadata": {},
   "cell_type": "code",
   "outputs": [],
   "execution_count": null,
   "source": "",
   "id": "8f80b30932a72e74"
  }
 ],
 "metadata": {
  "kernelspec": {
   "display_name": "Python 3",
   "language": "python",
   "name": "python3"
  },
  "language_info": {
   "codemirror_mode": {
    "name": "ipython",
    "version": 2
   },
   "file_extension": ".py",
   "mimetype": "text/x-python",
   "name": "python",
   "nbconvert_exporter": "python",
   "pygments_lexer": "ipython2",
   "version": "2.7.6"
  }
 },
 "nbformat": 4,
 "nbformat_minor": 5
}
