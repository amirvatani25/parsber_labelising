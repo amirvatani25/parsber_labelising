{
 "cells": [
  {
   "cell_type": "code",
   "id": "initial_id",
   "metadata": {
    "collapsed": true,
    "ExecuteTime": {
     "end_time": "2024-07-13T10:01:54.806316Z",
     "start_time": "2024-07-13T10:01:54.802836Z"
    }
   },
   "source": [
    "from __future__ import absolute_import, division, print_function, unicode_literals\n",
    "\n",
    "try:\n",
    "    # %tensorflow_version only exists in Colab.\n",
    "    %tensorflow_version 2.x\n",
    "except Exception:\n",
    "    pass\n",
    "\n",
    "import tensorflow as tf"
   ],
   "outputs": [],
   "execution_count": 3
  },
  {
   "metadata": {
    "ExecuteTime": {
     "end_time": "2024-07-13T10:02:12.290410Z",
     "start_time": "2024-07-13T10:02:09.949954Z"
    }
   },
   "cell_type": "code",
   "source": [
    "import numpy as np\n",
    "import pandas as pd\n",
    "\n",
    "import hazm\n",
    "\n",
    "import transformers \n",
    "from transformers import AutoTokenizer, AutoConfig\n",
    "from transformers import TFAutoModelForTokenClassification\n",
    "\n",
    "import os\n",
    "from IPython.display import display, HTML, clear_output\n",
    "from ipywidgets import widgets, Layout\n",
    "\n",
    "print()\n",
    "print('tensorflow', tf.__version__)\n",
    "print('transformers', transformers.__version__)\n",
    "print('numpy', np.__version__)\n",
    "print('pandas', pd.__version__)\n",
    "print()\n",
    "\n",
    "if tf.test.gpu_device_name() != '/device:GPU:0':\n",
    "    print()\n",
    "    print('WARNING: GPU device not found.')\n",
    "else:\n",
    "    print()\n",
    "    print('SUCCESS: Found GPU: {}'.format(tf.test.gpu_device_name()))"
   ],
   "id": "38979d48e5f9a5e2",
   "outputs": [
    {
     "name": "stdout",
     "output_type": "stream",
     "text": [
      "\n",
      "tensorflow 2.17.0\n",
      "transformers 4.42.4\n",
      "numpy 1.24.3\n",
      "pandas 2.2.2\n",
      "\n",
      "\n",
      "WARNING: GPU device not found.\n"
     ]
    }
   ],
   "execution_count": 4
  },
  {
   "metadata": {
    "ExecuteTime": {
     "end_time": "2024-07-13T10:27:24.823640Z",
     "start_time": "2024-07-13T10:27:24.816915Z"
    }
   },
   "cell_type": "code",
   "source": [
    "texts = [\n",
    "    \"مدیرکل محیط زیست استان البرز با بیان اینکه با بیان اینکه موضوع شیرابه‌های زباله‌های انتقال یافته در منطقه حلقه دره خطری برای این استان است، گفت: در این مورد گزارشاتی در ۲۵ مرداد ۱۳۹۷ تقدیم مدیران استان شده است.\",\n",
    "    \"به گزارش خبرگزاری تسنیم از کرج، حسین محمدی در نشست خبری مشترک با معاون خدمات شهری شهرداری کرج که با حضور مدیرعامل سازمان‌های پسماند، پارک‌ها و فضای سبز و نماینده منابع طبیعی در سالن کنفرانس شهرداری کرج برگزار شد، اظهار داشت: ۸۰٪  جمعیت استان البرز در کلانشهر کرج زندگی می‌کنند.\",\n",
    "    \"وی افزود: با همکاری‌های مشترک بین اداره کل محیط زیست و شهرداری کرج برنامه‌های مشترکی برای حفاظت از محیط زیست در شهر کرج در دستور کار قرار گرفته که این اقدامات آثار مثبتی داشته و تاکنون نزدیک به ۱۰۰ میلیارد هزینه جهت خریداری اکس-ریس صورت گرفته است.\",\n",
    "]\n",
    "\n",
    "peyma_translate = {\n",
    "    \"B_DAT\": \"تاریخ\",\n",
    "    \"B_LOC\": \"موقعیت\",\n",
    "    \"B_MON\": \"پول\",\n",
    "    \"B_ORG\": \"سازمنان\",\n",
    "    \"B_PCT\": \"درصد\",\n",
    "    \"B_PER\": \"شخص\",\n",
    "    \"B_TIM\": \"زمان\",\n",
    "    \"I_DAT\": \"تاریخ\",\n",
    "    \"I_LOC\": \"موقعیت\",\n",
    "    \"I_MON\": \"پول\",\n",
    "    \"I_ORG\": \"سازمان\",\n",
    "    \"I_PCT\": \"درصد\",\n",
    "    \"I_PER\": \"شخص\",\n",
    "    \"I_TIM\": \"زمان\",\n",
    "    \"O\": None,\n",
    "}\n",
    "arman_translate = {\n",
    "    \"B-event\": \"رویداد\",\n",
    "    \"B-fac\": \"امکانات\",\n",
    "    \"B-loc\": \"موقعیت\",\n",
    "    \"B-org\": \"سازمان\",\n",
    "    \"B-pers\": \"شخص\",\n",
    "    \"B-pro\": \"محصول\",\n",
    "    \"I-event\": \"رویداد\",\n",
    "    \"I-fac\": \"امکانات\",\n",
    "    \"I-loc\": \"موقعیت\",\n",
    "    \"I-org\": \"سازمان\",\n",
    "    \"I-pers\": \"شخص\",\n",
    "    \"I-pro\": \"محصول\",\n",
    "    \"O\": None\n",
    "}\n",
    "\n",
    "ner_translate = {\n",
    "    \"B-date\": \"تاریخ\",\n",
    "    \"B-event\": \"رویداد\",\n",
    "    \"B-facility\": \"امکانات\",\n",
    "    \"B-location\": \"موقعیت\",\n",
    "    \"B-money\": \"پول\",\n",
    "    \"B-organization\": \"سازمان\",\n",
    "    \"B-person\": \"شخص\",\n",
    "    \"B-product\": \"محصول\",\n",
    "    \"B-time\": \"زمان\",\n",
    "    \"B-percent\": \"درصد\",\n",
    "    \"I-date\": \"تاریخ\",\n",
    "    \"I-event\": \"رویداد\",\n",
    "    \"I-facility\": \"امکانات\",\n",
    "    \"I-location\": \"موقعیت\",\n",
    "    \"I-money\": \"پول\",\n",
    "    \"I-organization\": \"سازمان\",\n",
    "    \"I-person\": \"شخص\",\n",
    "    \"I-product\": \"محصول\",\n",
    "    \"I-time\": \"زمان\",\n",
    "    \"I-percent\": \"درصد\",\n",
    "    \"O\": None\n",
    "}"
   ],
   "id": "f5c9089dd45b0f4b",
   "outputs": [],
   "execution_count": 5
  },
  {
   "metadata": {},
   "cell_type": "code",
   "outputs": [],
   "execution_count": null,
   "source": "",
   "id": "d777a3638bd3768e"
  }
 ],
 "metadata": {
  "kernelspec": {
   "display_name": "Python 3",
   "language": "python",
   "name": "python3"
  },
  "language_info": {
   "codemirror_mode": {
    "name": "ipython",
    "version": 2
   },
   "file_extension": ".py",
   "mimetype": "text/x-python",
   "name": "python",
   "nbconvert_exporter": "python",
   "pygments_lexer": "ipython2",
   "version": "2.7.6"
  }
 },
 "nbformat": 4,
 "nbformat_minor": 5
}
